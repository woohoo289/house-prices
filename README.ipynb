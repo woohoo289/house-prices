{
 "cells": [
  {
   "cell_type": "markdown",
   "metadata": {},
   "source": [
    "# Machine Learning in Python - Project 1\n",
    "\n",
    "Due Friday, March 6th by 5 pm"
   ]
  },
  {
   "cell_type": "markdown",
   "metadata": {},
   "source": [
    "## Data\n",
    "\n",
    "We will be using data on house sales from a large city in the United States with the goal of developing a predictive model for the sale price of homes in this city. In addition to the sale price, these data include 15 features that provide additional details on the property and the sale. \n",
    "\n",
    "Below is a brief discussion of the included features and their descriptions,\n",
    "\n",
    "* `sale_price` - Sale price (USD) \n",
    "* `year_sold` -  Year the house sold\n",
    "* `year_built` -  Year the house was built\n",
    "* `lot_area` - Area of the lot (sq ft)\n",
    "* `basement_area` - Area of the basement (sq ft)\n",
    "* `living_area` - Area of the above ground living area (sq ft)\n",
    "* `full_bath` - Number of full baths\n",
    "* `half_bath` - Number of half baths\n",
    "* `bedroom` - Number of bedrooms\n",
    "* `garage_cars` - Size of garage (car capacity)\n",
    "* `garage_area` - Size of garage (sq ft)\n",
    "* `ac` - Does the house have air conditioning (Y, N)\n",
    "* `zoning` - General zoning classification of the sale (low, medium, high density).\n",
    "* `neighborhood` - Neighborhood within the city (nb_01, ..., nb_24)\n",
    "* `quality` - Rating of the overall material and finish of the house (poor, fair, average, good, excellent)\n",
    "* `condition` - Rating of the overall condition of the house (poor, fair, average, good, excellent)\n",
    "    \n",
    "We have provided three data files: `sales.csv`, `sales_test.csv`, and `sales_holdout.csv` which contain 1584, 350, and 350 observations respectively. The first two files can be used in any way you wish to train your model(s). The holdout file provided actually contains identical data to the test file - we have included this as we will be replacing this holdout file after you turn in the assignment to obtain a true out-of-sample assessment of your final model. Additional details on this are provided in the project notebook's Model Validation section.\n",
    "    \n",
    "## Assignment\n",
    "\n",
    "For this project, you are tasked with developing a predictive model for the sale price of homes in this city. The primary goal is for the model to accurately predict the price of a new house coming to market, something that is clearly of use to both buyers and sellers. However, we don't just want a blackbox predictive model - you should be able to explain and justify your modeling choices and your model's predictions.\n",
    "\n",
    "Your model may use as few or as many of the provided features, and you may transform and manipulate these features in any way that you want to generate additional features. The only restriction is that you may not use any additional outside data in your model(s).\n",
    "\n",
    "We have covered a number of models and modeling approaches in the lectures and workshops and you should explore a variety of different approaches for this particular task. However, your ultimate goal is to deliver a single accurate and explainable model. These are competing interests and it is up to you to find a reasonable balance between the two - final marks will be based on how well you accomplish this.\n",
    "\n",
    "We have provided a template Jupyter notebook called `project1.ipynb` which includes all of the required sections along with brief instructions on what should be included in each section. All of your work must be contained in the `project1.ipynb` notebook, we will only mark what is included in this file. We have included instructions for each section, these instructions should be removed from the final document before submission. Additionally, feel free to include subsections or other alternative formatting, however please retain all 5 of the included sections.\n",
    "\n",
    "## Submission\n",
    "\n",
    "This project is due Friday, March 6th by 5 pm. You are expected to submit your completed work as follows:\n",
    "\n",
    "* Submit your notebook and supporting files via Noteable's assignment tool\n",
    "\n",
    "* Submit an exported html version of your project notebook via Learn. To generate an html document select `Download as` from the `File` menu.\n",
    "\n",
    "Both submission steps are necessary for your work to be considered submitted. Standard late penalties will apply for work not submitted by the deadline.\n",
    "\n",
    "It is strongly recommended that you attempt to rerun your entire notebook after restarting your Jupyter kernel to ensure everything is reproducible before submitting your assignment.\n",
    "\n",
    "## Marking Rubric\n",
    "\n",
    "The project will be marked out of 100, and we will be using the following rubric to roughly guide the marking:\n",
    "\n",
    "* **>90**: The code runs without errors. Models are implemented, fit, and assessed correctly. The final model achieves a high level of predictive accuracy and is well documented and described in the writeup. There is significant and creative additional investigation of the problem. Potentially could be used as a model answer. Write-up evidences deep understanding of the data and the model(s).\n",
    "\n",
    "* **80-89**: The code runs without errors. Models are implemented, fit, and assessed correctly. The write up is generally good and the code is appropriately commented. The final model achieves a reasonable level of predictive accuracy and is well documented and described in the writeup. There is moderate additional investigation of the problem. Write-up evidences good understanding of the data and the model(s).\n",
    "\n",
    "* **70-79**: The code runs without errors. Models are implemented, fit, and assessed correctly with only minor issues. The write-up is ok but could be better. There is perhaps a good degree of additional investigation of the problem. Write-up evidences adequate understanding of the data and the model(s).\n",
    "\n",
    "* **60-69**: The code runs without errors. Models are implemented, fit, and assessed correctly with only moderate issues. The write-up is ok but could be better, includes some moderate errors or omissions. Write-up evidences adequate understanding of the data and the model(s).\n",
    "\n",
    "* **50-59**: The code runs with some errors. Models are implemented, fit, and assessed but with some serious issues. The write-up is ok but could be better, includes some significant errors or omissions. Write-up evidences an incomplete understanding of the data and the model(s).\n",
    "\n",
    "* **<49**: Significant issues with the code, model(s), and/or the write up. Write-up evidences an incomplete understanding of the data and the model(s).\n"
   ]
  },
  {
   "cell_type": "code",
   "execution_count": null,
   "metadata": {},
   "outputs": [],
   "source": []
  }
 ],
 "metadata": {
  "kernelspec": {
   "display_name": "Python 3",
   "language": "python",
   "name": "python3"
  },
  "language_info": {
   "codemirror_mode": {
    "name": "ipython",
    "version": 3
   },
   "file_extension": ".py",
   "mimetype": "text/x-python",
   "name": "python",
   "nbconvert_exporter": "python",
   "pygments_lexer": "ipython3",
   "version": "3.7.6"
  }
 },
 "nbformat": 4,
 "nbformat_minor": 4
}
